{
 "cells": [
  {
   "cell_type": "code",
   "execution_count": null,
   "metadata": {},
   "outputs": [],
   "source": [
    "# !pip install ragatouille"
   ]
  },
  {
   "cell_type": "code",
   "execution_count": 1,
   "metadata": {},
   "outputs": [
    {
     "data": {
      "text/plain": [
       "1677"
      ]
     },
     "execution_count": 1,
     "metadata": {},
     "output_type": "execute_result"
    }
   ],
   "source": [
    "# Read file txt\n",
    "from glob import glob\n",
    "lst_txt = glob(\"data_txt_upload*/*/*.txt\")\n",
    "len(lst_txt)\n"
   ]
  },
  {
   "cell_type": "code",
   "execution_count": 8,
   "metadata": {},
   "outputs": [],
   "source": [
    "# Load documents with each txt file as a document\n",
    "documents =   []\n",
    "document_ids = []\n",
    "for txt in lst_txt:\n",
    "\twith open(txt, \"r\") as f:\n",
    "\t\tdocuments.append(f.read())\n",
    "\t\ttxt_split = txt.split(\"/\")\n",
    "\t\tid = f\"{txt_split[-2]}_{txt_split[-1][:-4].split('_')[-1]}\"\n",
    "\t\tdocument_ids.append(id)"
   ]
  },
  {
   "cell_type": "code",
   "execution_count": 2,
   "metadata": {},
   "outputs": [],
   "source": [
    "# Load documents with each folder as a document\n",
    "import os\n",
    "folder_dict = {}\n",
    "for txt_path in lst_txt:\n",
    "    folder_name = txt_path.split(\"/\")[-2]\n",
    "    if folder_name not in folder_dict:\n",
    "        folder_dict[folder_name] = []\n",
    "    folder_dict[folder_name].append(txt_path)\n",
    "    \n",
    "document_dict = {}\n",
    "for folder_name, lst_txt_path in folder_dict.items():\n",
    "    lst_txt_path = sorted(lst_txt_path, key=lambda x: int(x[:-4].split(\"_\")[-1]))\n",
    "    full_text = \"\"\n",
    "    for txt_path in lst_txt_path:\n",
    "        with open(txt_path, \"r\") as fi:\n",
    "            full_text += f\"\\n\\n{fi.read()}\"\n",
    "    document_dict[folder_name] = full_text"
   ]
  },
  {
   "cell_type": "code",
   "execution_count": null,
   "metadata": {},
   "outputs": [],
   "source": [
    "# Create index with finetuned RAG model for documents\n",
    "from ragatouille import RAGPretrainedModel\n",
    "\n",
    "RAG = RAGPretrainedModel.from_pretrained(\"/home/anga/Tuannn55/github/Data_Agent_Example/results/.ragatouille/colbert/none/2025-02/22/10.47.56/checkpoints/colbert\")\n",
    "\n",
    "index_path = RAG.index(index_name=\"my_index\", collection=document_dict.values())"
   ]
  },
  {
   "cell_type": "code",
   "execution_count": 5,
   "metadata": {},
   "outputs": [
    {
     "name": "stderr",
     "output_type": "stream",
     "text": [
      "/home/anga/Tuannn55/github/Data_Agent_Example/venv/lib/python3.10/site-packages/colbert/utils/amp.py:12: FutureWarning: `torch.cuda.amp.GradScaler(args...)` is deprecated. Please use `torch.amp.GradScaler('cuda', args...)` instead.\n",
      "  self.scaler = torch.cuda.amp.GradScaler()\n",
      "/home/anga/Tuannn55/github/Data_Agent_Example/venv/lib/python3.10/site-packages/torch/amp/grad_scaler.py:132: UserWarning: torch.cuda.amp.GradScaler is enabled, but CUDA is not available.  Disabling.\n",
      "  warnings.warn(\n"
     ]
    },
    {
     "name": "stdout",
     "output_type": "stream",
     "text": [
      "Loading searcher for index my_index for the first time... This may take a few seconds\n",
      "[Feb 23, 12:44:50] #> Loading codec...\n",
      "[Feb 23, 12:44:50] #> Loading IVF...\n",
      "[Feb 23, 12:44:50] Loading segmented_lookup_cpp extension (set COLBERT_LOAD_TORCH_EXTENSION_VERBOSE=True for more info)...\n",
      "[Feb 23, 12:44:50] #> Loading doclens...\n"
     ]
    },
    {
     "name": "stderr",
     "output_type": "stream",
     "text": [
      "100%|██████████| 1/1 [00:00<00:00, 1049.36it/s]"
     ]
    },
    {
     "name": "stdout",
     "output_type": "stream",
     "text": [
      "[Feb 23, 12:44:50] #> Loading codes and residuals...\n"
     ]
    },
    {
     "name": "stderr",
     "output_type": "stream",
     "text": [
      "\n",
      "100%|██████████| 1/1 [00:00<00:00, 31.56it/s]"
     ]
    },
    {
     "name": "stdout",
     "output_type": "stream",
     "text": [
      "[Feb 23, 12:44:50] Loading filter_pids_cpp extension (set COLBERT_LOAD_TORCH_EXTENSION_VERBOSE=True for more info)...\n"
     ]
    },
    {
     "name": "stderr",
     "output_type": "stream",
     "text": [
      "\n"
     ]
    },
    {
     "name": "stdout",
     "output_type": "stream",
     "text": [
      "[Feb 23, 12:44:50] Loading decompress_residuals_cpp extension (set COLBERT_LOAD_TORCH_EXTENSION_VERBOSE=True for more info)...\n",
      "Searcher loaded!\n",
      "\n",
      "#> QueryTokenizer.tensorize(batch_text[0], batch_background[0], bsize) ==\n",
      "#> Input: Quy trình xử lý cảnh báo phát sinh do kế hoạch cắt chuyển cấp PMB/INF bắt đầu như thế nào?, \t\t True, \t\t None\n",
      "#> Output IDs: torch.Size([32]), tensor([  101,     1, 24209,  2100, 13012, 25311, 15990,  1048,  2100,  2064,\n",
      "         2232, 25945,  6887,  4017,  8254,  2232,  2079, 17710,  7570,  6776,\n",
      "         4937, 14684, 20684,  6178,  7610,  2497,  1013,  1999,  2546,  7151,\n",
      "         1102,   102])\n",
      "#> Output Mask: torch.Size([32]), tensor([1, 1, 1, 1, 1, 1, 1, 1, 1, 1, 1, 1, 1, 1, 1, 1, 1, 1, 1, 1, 1, 1, 1, 1,\n",
      "        1, 1, 1, 1, 1, 1, 1, 1])\n",
      "\n"
     ]
    },
    {
     "name": "stderr",
     "output_type": "stream",
     "text": [
      "/home/anga/Tuannn55/github/Data_Agent_Example/venv/lib/python3.10/site-packages/colbert/utils/amp.py:15: FutureWarning: `torch.cuda.amp.autocast(args...)` is deprecated. Please use `torch.amp.autocast('cuda', args...)` instead.\n",
      "  return torch.cuda.amp.autocast() if self.activated else NullContextManager()\n",
      "/home/anga/Tuannn55/github/Data_Agent_Example/venv/lib/python3.10/site-packages/torch/amp/autocast_mode.py:266: UserWarning: User provided device_type of 'cuda', but CUDA is not available. Disabling\n",
      "  warnings.warn(\n"
     ]
    }
   ],
   "source": [
    "from ragatouille import RAGPretrainedModel\n",
    "\n",
    "query = \"Quy trình xử lý cảnh báo phát sinh do kế hoạch cắt chuyển cấp PMB/INF bắt đầu như thế nào?\"\n",
    "RAG = RAGPretrainedModel.from_index(\"/home/anga/Tuannn55/github/Data_Agent_Example/.ragatouille/colbert/indexes/my_index\")\n",
    "results = RAG.search(query)"
   ]
  },
  {
   "cell_type": "code",
   "execution_count": 6,
   "metadata": {},
   "outputs": [
    {
     "data": {
      "text/plain": [
       "[{'content': '8.107-HDMVTHDCVFTEL\\n1/8\\n\\nHDCV: Xử lý cảnh báo phát sinh do kế hoạch cắt chuyển cấp PMB/INF\\n\\nI. MỤC ĐÍCH VÀ PHẠM VI ÁP DỤNG\\n- Mục đích:\\n    - Hướng dẫn công việc chủ động xử lý các cảnh báo bước sóng hệ thống truyền dẫn, phát sinh ảnh hưởng do kế hoạch cắt chuyển cấp của PMB/INF\\n- Phạm vi áp dụng:\\n    - Trung tâm Giám sát và Đảm bảo dịch vụ (SCC).',\n",
       "  'score': 21.592233657836914,\n",
       "  'rank': 1,\n",
       "  'document_id': '4cecb53d-c901-4799-b53d-ca4cca886f3c',\n",
       "  'passage_id': 3174},\n",
       " {'content': 'HDCV: Xử lý cảnh báo phát sinh do kế hoạch cắt chuyền cấp PMB/INF\\n\\nLần ban hành/sửa đổi: 1/0\\n\\nFPT Telecom\\n\\nHướng dẫn công việc\\nXỬ LÝ CẢNH BÁO PHÁT SINH\\nDO KẾ HOẠCH CẮT CHUYỂN CẤP PMB/INF\\n\\nMã hiệu: 1.8.107-HDMVTHDCVFTEL\\n\\nPhiên bản: 1/0\\n\\nNgày có hiệu lực: Ngày tài liệu này được ký\\n\\nNgười duyệt:\\nLê Quang Cường (SCC)\\n\\nNgười xem xét:\\nNgô Kim Thông (FTQ)\\n\\nNhóm soạn thảo:\\nNguyễn Trung Đức (NOC)\\nVũ Thị Thủy (NOC)\\n\\n1.8.',\n",
       "  'score': 20.92246437072754,\n",
       "  'rank': 2,\n",
       "  'document_id': '4cecb53d-c901-4799-b53d-ca4cca886f3c',\n",
       "  'passage_id': 3173},\n",
       " {'content': 'LƯU ĐỒ\\nHDCV XỬ LÝ CẢNH BÁO PHÁT SINH DO THỰC HIỆN KẾ HOẠCH CẮT CHUYỂN CẤP PMB/INF\\nKH cắt chuyên cập PMB/INF\\nLần ban hành/sửa đổi: 1/0\\n2. Thông tin NOC-OTS cập nhật ảnh hưởng trong kế hoạch\\n3. NOC-OTS cập nhật list bước sóng\\n4. Tiếp nhận cảnh báo ESC\\n5. Cảnh báo có năng trong list bước sóng ảnh hưởng?\\n6. SCC xử lý cảnh báo phát sinh\\n7. Chuyển queue cho NOC-OTS\\n8. NOC-OTS kiểm tra xử lý\\n9.',\n",
       "  'score': 19.920238494873047,\n",
       "  'rank': 3,\n",
       "  'document_id': '4cecb53d-c901-4799-b53d-ca4cca886f3c',\n",
       "  'passage_id': 3177},\n",
       " {'content': 'ĐỊNH NGHĨA VÀ CHỮ VIẾT TẮT\\n| STT | Thuật ngữ, từ viết tắt | Ý nghĩa |\\n|---|---|---|\\n| 1 | NOC-NET | Phòng Điều hành mạng IP - NOC |\\n| 2 | NOC-OTS | Phòng Điều hành mạng truyền dẫn - NOC |\\n| 3 | PMB | TT QL Phát triển đường trục |\\n| 4 | INF | Trung tâm Phát triển và quản lý hạ tầng |\\n| 5 | SNC | Sub-network connections\\n\\nHDCV: Xử lý cảnh báo phát sinh do kế hoạch cắt chuyên cấp PMB/INF\\nIII.',\n",
       "  'score': 17.5743408203125,\n",
       "  'rank': 4,\n",
       "  'document_id': '4cecb53d-c901-4799-b53d-ca4cca886f3c',\n",
       "  'passage_id': 3176},\n",
       " {'content': '| Cảnh báo phát sinh trên Django/ MCP: - Cảnh báo Offhome - Down SNC | Cán bộ vận hành hệ thống SSC | Trong 10 phút từ lúc cảnh báo bao xuất hiện trên Django, MCP, Opsview | Quy trình xử lý sự cố hạ tầng mạng viễn thông\\n\\nBức ảnh là một phần của tài liệu hướng dẫn xử lý cảnh báo phát sinh do kế hoạch cắt chuyền cấp PMB/INF. Bố cục được chia thành 2 cột: cột bên trái liệt kê các bước xử lý cảnh báo và cột bên phải mô tả hoạt động, sản phẩm, người thực hiện, thời gian và tài liệu hướng dẫn.',\n",
       "  'score': 17.17473793029785,\n",
       "  'rank': 5,\n",
       "  'document_id': '4cecb53d-c901-4799-b53d-ca4cca886f3c',\n",
       "  'passage_id': 3184},\n",
       " {'content': '* Chuyển bước 3.\\n\\nPhần cuối cùng của bức ảnh là dòng chữ \"1.8.107-HDMVTHDCVFETEL 4/8\"\\n\\nBảng gồm 2 phần, mỗi phần là một bước trong quy trình xử lý cảnh báo phát sinh do kế hoạch cắt chuyên cấp PMB/INF.\\n\\n**Bước 3: NOC-OTS cập nhật list bước sóng ảnh hưởng**\\n\\n| STT | Hoạt động | Sản phẩm | Người thực hiện | Thời gian | Tài liệu hướng dẫn |\\n|---|---|---|---|---|---|\\n| 3 | Nhân sự bổ sung thông tin, đính kèm file list bước sóng ảnh hưởng dựa theo biểu mẫu kế hoạch cắt chuyển của PMB.',\n",
       "  'score': 17.02749252319336,\n",
       "  'rank': 6,\n",
       "  'document_id': '4cecb53d-c901-4799-b53d-ca4cca886f3c',\n",
       "  'passage_id': 3181},\n",
       " {'content': '8.105-HD/MVT/HDCV/FTEL\\n\\nHDCV: Phát hiện xử lý cảnh báo service check DPI trên Opsview\\n\\n2. Thực hiện kiểm tra và XLSC. Cảnh báo được xử lý hoàn tất, update nguyên nhân, kết quả vào ticket theo MTQT xử lý sự cố mạng Viễn thông\\n\\nSC được xử lý\\n\\nCán bộ điều hành mang NOC-NET\\n\\nTrong vòng 60 phút từ khi nhận được SC\\n\\n1.8.1HD/MVT/HDCV/FTEHLDCV Quy trình xử lý sự cố hạ tầng mạng viễn thông\\n\\nBước 3: Kiểm tra sau xử lý\\n\\nSTT Hoạt động Sản phẩm Người thực hiện Thời gian Tài liệu hướng dẫn\\n\\n3.',\n",
       "  'score': 16.131101608276367,\n",
       "  'rank': 7,\n",
       "  'document_id': 'b97a938c-4f2e-4e4c-816c-2cb1f62372df',\n",
       "  'passage_id': 2091},\n",
       " {'content': '**Bước 9: Kiểm tra sau xử lý**\\nHoạt động\\nSản phẩm\\nNgười thực hiện\\nThời gian\\nTài liệu hướng dẫn\\n\\n# HĐCV: Xử lý cảnh báo phát sinh do kế hoạch cắt chuyền cấp PMB/INF\\n\\n## Kiểm tra cảnh báo trên hệ thống Django, MCP và Optsview:\\n- Cảnh báo phát sinh trên Django/MCP:\\n    - Cảnh báo Offhome\\n    - Down port SNC\\n- Cảnh báo phát sinh trên Optsview:\\n    - Down bước sóng.\\n\\n* Nếu cảnh báo được clear → OK, Phản hồi cho NOC-OTS để đóng ticket.\\n* Nếu cảnh báo chưa được clear → NOT OK → chuyển bước 7.\\n\\n## Hiện văn hành hệ thống\\nTrong 10 phút từ khi nhận được thông tin của OTS.',\n",
       "  'score': 15.772266387939453,\n",
       "  'rank': 8,\n",
       "  'document_id': '4cecb53d-c901-4799-b53d-ca4cca886f3c',\n",
       "  'passage_id': 3190},\n",
       " {'content': '6. SCC xử lý cảnh báo phát sinh\\n7. Chuyển queue cho NOC-OTS\\n8. NOC-OTS kiểm tra xử lý\\n9. Kiểm tra sau xử lý\\nKết thúc\\n\\nBức ảnh là một bảng biểu với tiêu đề \"IV. CÁC BƯỚC THỰC HIỆN\". Bảng được chia thành 4 cột: STT, Hoạt động, Sản phẩm, Người thực hiện, Thời gian, Tài liệu hướng dẫn.\\n\\n- Cột STT liệt kê các bước thực hiện.\\n- Cột Hoạt động mô tả nội dung của từng bước.\\n- Cột Sản phẩm nêu rõ loại sản phẩm cần thiết cho từng bước.\\n- Cột Người thực hiện thể hiện người thực hiện từng bước.',\n",
       "  'score': 15.180105209350586,\n",
       "  'rank': 9,\n",
       "  'document_id': '4cecb53d-c901-4799-b53d-ca4cca886f3c',\n",
       "  'passage_id': 3178},\n",
       " {'content': 'Kiểm tra kết quả chạy tool\\n4. Chuyển que ticket cho OTS\\n5. Kiểm tra sau xử lý\\n6. Đóng ticket\\n\\nLần ban hành/sửa đổi: 1/0\\n\\n**IV. CÁC BƯỚC THỰC HIỆN\\nBước 1. Tiếp nhận cảnh báo và tạo ticket**\\n\\n**STT**\\nHoạt động\\n\\nPhát hiện cảnh báo trên opssview:\\n- Vào đường dẫn: https://210.245.0.226/status/hostgroup?parentid=311\\n- Phát hiện cảnh báo tại mục 1.PMB-OTS\\n\\n1.PMB-OTS\\n- 555 UP 9 DOWN\\n- 2 DOWN\\n- 5627 OK\\n- 3 WARNING\\n- 80 UNKNOWN\\n- 28 CRITICAL\\n- 61 WARNING\\n- 35 UNKNOWN\\n- 48 CRITICAL\\n\\nHDCV Phát hiện và xử lý cảnh báo',\n",
       "  'score': 15.08449649810791,\n",
       "  'rank': 10,\n",
       "  'document_id': 'ad668217-4799-46d5-9935-f1806899ed95',\n",
       "  'passage_id': 2498}]"
      ]
     },
     "execution_count": 6,
     "metadata": {},
     "output_type": "execute_result"
    }
   ],
   "source": [
    "results"
   ]
  }
 ],
 "metadata": {
  "kernelspec": {
   "display_name": "venv",
   "language": "python",
   "name": "python3"
  },
  "language_info": {
   "codemirror_mode": {
    "name": "ipython",
    "version": 3
   },
   "file_extension": ".py",
   "mimetype": "text/x-python",
   "name": "python",
   "nbconvert_exporter": "python",
   "pygments_lexer": "ipython3",
   "version": "3.10.14"
  }
 },
 "nbformat": 4,
 "nbformat_minor": 2
}
